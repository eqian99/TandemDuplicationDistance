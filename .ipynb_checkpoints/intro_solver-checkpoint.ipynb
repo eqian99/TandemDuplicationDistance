{
 "cells": [
  {
   "cell_type": "markdown",
   "metadata": {},
   "source": [
    "# Creating a program to solve the string solution problem\n",
    "\n",
    "this ipython notebook assumes some familiarity with python, please check the intro guide or speak with chris haack if you need more help getting started.\n",
    "All code in this project will be using python3. \n",
    "\n"
   ]
  },
  {
   "cell_type": "code",
   "execution_count": 1,
   "metadata": {
    "collapsed": true
   },
   "outputs": [],
   "source": [
    "# helpers.py should be in the zip package which you can download from the website\n",
    "from helpers import *"
   ]
  },
  {
   "cell_type": "markdown",
   "metadata": {},
   "source": [
    "# A Simple Solver\n",
    "\n",
    "## step1 figure out which seed generated the string\n",
    "\n",
    "say we have a binary string as given in problem 1. We need to figure out which of the possible strings could be the original seed.\n",
    "\n",
    "In the file helpers I have inserted a function which you can use to do that. find_start_string()\n",
    "note you can assume this function is corect. the function takes O(N) time.\n",
    "(the function works by assigning the first character to a variable a. Then it checks to see if any of the \n",
    "internal characters are of opposite parity and assigns that to a variable b. then it also collects data on the last char to see if it is the same as the first one. if the last char is the same as the first one\n",
    "the start string will be aba, otherwise it is ab.)"
   ]
  },
  {
   "cell_type": "code",
   "execution_count": 2,
   "metadata": {
    "collapsed": false
   },
   "outputs": [
    {
     "data": {
      "text/plain": [
       "'01'"
      ]
     },
     "execution_count": 2,
     "metadata": {},
     "output_type": "execute_result"
    }
   ],
   "source": [
    "s = '010101'\n",
    "find_start_string(s)"
   ]
  },
  {
   "cell_type": "markdown",
   "metadata": {},
   "source": [
    "## step2 generate possible duplications.\n",
    "\n",
    "the next part of this program will need to generate all of the possible duplications.\n",
    "\n",
    "### step2.a write a function that duplicate a string.\n",
    "\n",
    "this function is also contained in the helpers folder. ''' this function duplicates a string s,\n",
    "with duplication length duplen at pos = pos for example s = 000111 duplen =2 pos = 2 gives 00010111"
   ]
  },
  {
   "cell_type": "code",
   "execution_count": 3,
   "metadata": {
    "collapsed": false
   },
   "outputs": [
    {
     "name": "stdout",
     "output_type": "stream",
     "text": [
      "00010111\n"
     ]
    }
   ],
   "source": [
    "s = '000111'\n",
    "s = duplicate(2, 2, s)\n",
    "print(s)"
   ]
  },
  {
   "cell_type": "markdown",
   "metadata": {},
   "source": [
    "## Step 2.b write a function that generates all the possible duplications from a given string\n",
    "\n",
    "note we use max length to not generate strings that are longer than the string we are trying to get to."
   ]
  },
  {
   "cell_type": "code",
   "execution_count": 7,
   "metadata": {
    "collapsed": false
   },
   "outputs": [
    {
     "name": "stdout",
     "output_type": "stream",
     "text": [
      "['1101', '10101', '101101', '1001', '10101', '1011']\n"
     ]
    }
   ],
   "source": [
    "def gen_paths(s, maxLen):\n",
    "    '''generates all the possible paths from a string that are below length maxlen'''\n",
    "    paths = []\n",
    "    for i in range(len(s)):\n",
    "        pos = i\n",
    "        for j in range(1, len(s) + 1):\n",
    "            dupLen = j\n",
    "            if dupLen + pos <= len(s):\n",
    "                path = duplicate(pos, dupLen, s)\n",
    "                if len(path) < maxLen + 1:\n",
    "                    paths.append(path)\n",
    "    return paths\n",
    "\n",
    "print(gen_paths('101', 7))"
   ]
  },
  {
   "cell_type": "markdown",
   "metadata": {},
   "source": [
    "# step 3 find the path\n",
    "\n",
    "The function solve does a couple of things\n",
    "\n",
    "First it calls findStartString on s so that it knows where to start from.\n",
    "It initializes a list of current_paths that it has seen called curr_paths.\n",
    "After that it initializes two variables cnt, which is how long the path is\n",
    "and l which is the len of the string.\n",
    "\n",
    "The next thing it does is loop until it has found the string in the current paths\n",
    "\n",
    "if the string s is in the current paths it prints the amount of steps and breaks out of the loop.\n",
    "if it is not then it goes through the list of current paths and then adds all of the paths to \n",
    "a list of next_paths. Once it has finished that it sets the current paths to the list of next_paths\n",
    "and increments the counter by 1.\n",
    "\n",
    "a simple run of the algorithm to solve s = 1011011\n",
    "\n",
    "start with seed 101 \n",
    "\n",
    "initalize list  curr_paths to [101]\n",
    "\n",
    "set cnt to 0\n",
    "\n",
    "check if s (1011011) in curr_paths ([101]) (false)\n",
    "\n",
    "for each path in curr_path generate the possible paths and add to next_paths:\n",
    "\n",
    "   generate paths for 101 -> next_paths = [1101, 1001, 1011, 10101, 10101, 101101]\n",
    "\n",
    "set curr_paths = to next_paths \n",
    "\n",
    "increment cnt to 1.\n",
    "\n",
    "set next_paths to [],\n",
    "\n",
    "check to see if s in curr_paths([1101, 1001, 1011, 10101, 10101, 101101])\n",
    "\n",
    "for each path in curr_path generate the possible paths and add to next_paths:\n",
    "\n",
    "generate paths for 1101, 1001, 1011, 10101, 10101, 101101 -> next_paths = [very large list with 1011011 in it]\n",
    "\n",
    "set curr_paths = to next_paths\n",
    "\n",
    "increment cnt to 2.\n",
    "\n",
    "set next_paths to []\n",
    "\n",
    "check to see if s in curr_paths (true)\n",
    "\n",
    "print cnt (cnt = 2).\n",
    "\n"
   ]
  },
  {
   "cell_type": "code",
   "execution_count": 8,
   "metadata": {
    "collapsed": false
   },
   "outputs": [
    {
     "name": "stdout",
     "output_type": "stream",
     "text": [
      "2\n"
     ]
    }
   ],
   "source": [
    "\n",
    "def solve(s):\n",
    "    start_string = find_start_string(s)\n",
    "    curr_paths = [start_string]\n",
    "    cnt = 0\n",
    "    l = len(s)\n",
    "    while(True):\n",
    "        next_paths = []\n",
    "        if s in curr_paths:\n",
    "            print(cnt)\n",
    "            break\n",
    "        for path in curr_paths:\n",
    "            next_paths += gen_paths(path, l)\n",
    "        curr_paths = next_paths\n",
    "        cnt += 1\n",
    "solve('1011011')"
   ]
  },
  {
   "cell_type": "code",
   "execution_count": null,
   "metadata": {
    "collapsed": true
   },
   "outputs": [],
   "source": []
  }
 ],
 "metadata": {
  "anaconda-cloud": {},
  "kernelspec": {
   "display_name": "Python [conda env:tensorflow]",
   "language": "python",
   "name": "conda-env-tensorflow-py"
  },
  "language_info": {
   "codemirror_mode": {
    "name": "ipython",
    "version": 2
   },
   "file_extension": ".py",
   "mimetype": "text/x-python",
   "name": "python",
   "nbconvert_exporter": "python",
   "pygments_lexer": "ipython2",
   "version": "2.7.13"
  }
 },
 "nbformat": 4,
 "nbformat_minor": 1
}
